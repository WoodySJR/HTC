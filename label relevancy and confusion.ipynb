{
 "cells": [
  {
   "cell_type": "code",
   "execution_count": null,
   "id": "596948d3",
   "metadata": {},
   "outputs": [],
   "source": [
    "# label relevancy"
   ]
  },
  {
   "cell_type": "code",
   "execution_count": null,
   "id": "83ef1394",
   "metadata": {},
   "outputs": [],
   "source": [
    "import numpy as np\n",
    "from scipy.stats import spearmanr"
   ]
  },
  {
   "cell_type": "code",
   "execution_count": null,
   "id": "2e86cefa",
   "metadata": {},
   "outputs": [],
   "source": [
    "# cosine similarity\n",
    "def cosine(a,b):\n",
    "    return np.dot(a,b)/(np.linalg.norm(a)*np.linalg.norm(b))"
   ]
  },
  {
   "cell_type": "code",
   "execution_count": null,
   "id": "53449ad1",
   "metadata": {},
   "outputs": [],
   "source": [
    "# load-in your training probabilities (alternatively, test probabilities or label embeddings)\n",
    "prob = np.load('train_prob.npy') "
   ]
  },
  {
   "cell_type": "code",
   "execution_count": null,
   "id": "2e66b287",
   "metadata": {},
   "outputs": [],
   "source": [
    "# initialize\n",
    "K = prob.shape[1]\n",
    "result_re = np.zeros((K,K))"
   ]
  },
  {
   "cell_type": "code",
   "execution_count": null,
   "id": "2de89c82",
   "metadata": {},
   "outputs": [],
   "source": [
    "# calculate label relevancy (whole-hierarchy)\n",
    "for i in range(K):\n",
    "    for j in range(K):\n",
    "        if i<j:\n",
    "            # if probabilities are used\n",
    "            result_re[i,j] = result_re[j,i] = spearmanr(prob[:,i],prob[:,j])[0]\n",
    "            \n",
    "            # if embeddings are used\n",
    "            # result_re[i,j] = result_re[j,i] = cosine(prob[:,i],prob[:,j])"
   ]
  },
  {
   "cell_type": "code",
   "execution_count": null,
   "id": "d41c6b99",
   "metadata": {},
   "outputs": [],
   "source": [
    "# normalize\n",
    "result_re = np.abs(result_re)\n",
    "result_re = result_re/np.sum(result_re,axis=1,keepdims=True)\n",
    "result_re += np.eye(K)"
   ]
  },
  {
   "cell_type": "code",
   "execution_count": null,
   "id": "43dbb887",
   "metadata": {},
   "outputs": [],
   "source": []
  },
  {
   "cell_type": "code",
   "execution_count": null,
   "id": "8027d86d",
   "metadata": {},
   "outputs": [],
   "source": [
    "# label confusion and sample importance learning"
   ]
  },
  {
   "cell_type": "code",
   "execution_count": null,
   "id": "1c8fdfef",
   "metadata": {},
   "outputs": [],
   "source": [
    "result_co = np.zeros((K))"
   ]
  },
  {
   "cell_type": "code",
   "execution_count": null,
   "id": "0e16b0c4",
   "metadata": {},
   "outputs": [],
   "source": [
    "# load in training set probabilities and true labels\n",
    "prob = np.load('train_prob.npy') \n",
    "labels = np.load('train_y.npy')"
   ]
  },
  {
   "cell_type": "code",
   "execution_count": null,
   "id": "5472d118",
   "metadata": {},
   "outputs": [],
   "source": [
    "# calculate label confusion\n",
    "for i in range(K):\n",
    "    for j in range(K):\n",
    "        index = np.array(labels[:,i]*(1-labels[:,j]), dtype='bool')\n",
    "        result_co[i,j] = np.sum(prob[index,j])"
   ]
  },
  {
   "cell_type": "code",
   "execution_count": null,
   "id": "2a4f0e4b",
   "metadata": {},
   "outputs": [],
   "source": [
    "# assign sample weights\n",
    "n = len(labels)\n",
    "tau = 1.2 # temperature parameter\n",
    "weights = np.array((n,K))\n",
    "for i in range(n):\n",
    "    for j in range(K):\n",
    "        if labels[i,j]==0:\n",
    "            weights[i,j]=1\n",
    "        else:\n",
    "            index = np.array(1-labels[i,:], dtype='bool')\n",
    "            temp = np.sum(np.exp(tau * result_co[j,index])-1)\n",
    "            weights[i,j] = 1+temp"
   ]
  },
  {
   "cell_type": "code",
   "execution_count": null,
   "id": "26405c92",
   "metadata": {},
   "outputs": [],
   "source": []
  }
 ],
 "metadata": {
  "kernelspec": {
   "display_name": "Python 3",
   "language": "python",
   "name": "python3"
  },
  "language_info": {
   "codemirror_mode": {
    "name": "ipython",
    "version": 3
   },
   "file_extension": ".py",
   "mimetype": "text/x-python",
   "name": "python",
   "nbconvert_exporter": "python",
   "pygments_lexer": "ipython3",
   "version": "3.8.8"
  }
 },
 "nbformat": 4,
 "nbformat_minor": 5
}
