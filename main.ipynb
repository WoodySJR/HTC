{
 "cells": [
  {
   "cell_type": "code",
   "execution_count": null,
   "metadata": {},
   "outputs": [],
   "source": [
    "# PeerHTC, with BlurbGenreCollection as an example"
   ]
  },
  {
   "cell_type": "code",
   "execution_count": null,
   "metadata": {
    "execution": {
     "iopub.execute_input": "2022-10-09T04:19:14.545314Z",
     "iopub.status.busy": "2022-10-09T04:19:14.544174Z",
     "iopub.status.idle": "2022-10-09T04:19:17.919873Z",
     "shell.execute_reply": "2022-10-09T04:19:17.918936Z",
     "shell.execute_reply.started": "2022-10-09T04:19:14.545248Z"
    }
   },
   "outputs": [],
   "source": [
    "from mxnet.contrib import text\n",
    "import pandas as pd\n",
    "from mxnet import nd, autograd, init, gluon\n",
    "import collections\n",
    "from sklearn.model_selection import train_test_split\n",
    "from mxnet.gluon import data as gdata, loss as gloss, utils as gutils, nn, rnn\n",
    "import numpy as np\n",
    "import d2lzh as d2l\n",
    "from tqdm import tqdm\n",
    "import mxnet as mx\n",
    "import time\n",
    "import gluonnlp as nlp"
   ]
  },
  {
   "cell_type": "code",
   "execution_count": null,
   "metadata": {},
   "outputs": [],
   "source": [
    "from model import PeerHTC\n",
    "from utilities import binary_cross_entropy as BCE, get_batch, F1, train, evaluate, init_log, "
   ]
  },
  {
   "cell_type": "code",
   "execution_count": null,
   "metadata": {
    "execution": {
     "iopub.execute_input": "2022-10-09T04:19:38.674699Z",
     "iopub.status.busy": "2022-10-09T04:19:38.674282Z",
     "iopub.status.idle": "2022-10-09T04:19:39.224220Z",
     "shell.execute_reply": "2022-10-09T04:19:39.223244Z",
     "shell.execute_reply.started": "2022-10-09T04:19:38.674667Z"
    }
   },
   "outputs": [],
   "source": [
    "# load in training and evaluating data\n",
    "features_train = nd.array(np.load('data/train_X_demo.npy'))\n",
    "features_val = nd.array(np.load('data/val_X_demo.npy'))\n",
    "\n",
    "labels_train = np.load('data/train_y_demo.npy')\n",
    "labels_val = np.load('data/val_y_demo.npy')\n",
    "labels_train = nd.array(labels_train)\n",
    "labels_val = nd.array(labels_val)"
   ]
  },
  {
   "cell_type": "code",
   "execution_count": null,
   "metadata": {
    "execution": {
     "iopub.execute_input": "2022-10-09T04:19:39.226641Z",
     "iopub.status.busy": "2022-10-09T04:19:39.226217Z",
     "iopub.status.idle": "2022-10-09T04:19:40.253925Z",
     "shell.execute_reply": "2022-10-09T04:19:40.252642Z",
     "shell.execute_reply.started": "2022-10-09T04:19:39.226601Z"
    }
   },
   "outputs": [],
   "source": [
    "# keep the first three layers\n",
    "labels_train = labels_train[:,0:130]\n",
    "labels_val = labels_val[:,0:130]"
   ]
  },
  {
   "cell_type": "code",
   "execution_count": null,
   "metadata": {
    "execution": {
     "iopub.execute_input": "2022-10-09T04:19:39.226641Z",
     "iopub.status.busy": "2022-10-09T04:19:39.226217Z",
     "iopub.status.idle": "2022-10-09T04:19:40.253925Z",
     "shell.execute_reply": "2022-10-09T04:19:40.252642Z",
     "shell.execute_reply.started": "2022-10-09T04:19:39.226601Z"
    }
   },
   "outputs": [],
   "source": [
    "# convert the data into proper format\n",
    "dataset_train = gdata.ArrayDataset(features_train, labels_train)\n",
    "dataset_val = gdata.ArrayDataset(features_val, labels_val)\n",
    "iter_train = gdata.DataLoader(dataset_train, 32, shuffle=True)\n",
    "iter_val = gdata.DataLoader(dataset_val, 10, shuffle=False)"
   ]
  },
  {
   "cell_type": "code",
   "execution_count": null,
   "metadata": {
    "execution": {
     "iopub.execute_input": "2022-10-09T04:19:39.226641Z",
     "iopub.status.busy": "2022-10-09T04:19:39.226217Z",
     "iopub.status.idle": "2022-10-09T04:19:40.253925Z",
     "shell.execute_reply": "2022-10-09T04:19:40.252642Z",
     "shell.execute_reply.started": "2022-10-09T04:19:39.226601Z"
    }
   },
   "outputs": [],
   "source": [
    "# number of categories in each layer\n",
    "c1 = 7\n",
    "c2 = 46\n",
    "c3 = 77\n",
    "K = 130"
   ]
  },
  {
   "cell_type": "code",
   "execution_count": null,
   "metadata": {
    "execution": {
     "iopub.execute_input": "2022-10-09T04:19:40.367636Z",
     "iopub.status.busy": "2022-10-09T04:19:40.367346Z",
     "iopub.status.idle": "2022-10-09T04:19:40.377638Z",
     "shell.execute_reply": "2022-10-09T04:19:40.376514Z",
     "shell.execute_reply.started": "2022-10-09T04:19:40.367609Z"
    }
   },
   "outputs": [],
   "source": [
    "# class names\n",
    "classes = np.load('data/classes.npy', allow_pickle=True)\n",
    "classes1 = classes.item()['genre1']\n",
    "classes2 = classes.item()['genre2']\n",
    "classes3 = classes.item()['genre3']"
   ]
  },
  {
   "cell_type": "code",
   "execution_count": null,
   "metadata": {
    "execution": {
     "iopub.execute_input": "2022-10-09T04:19:40.551339Z",
     "iopub.status.busy": "2022-10-09T04:19:40.551030Z",
     "iopub.status.idle": "2022-10-09T04:19:40.562197Z",
     "shell.execute_reply": "2022-10-09T04:19:40.561269Z",
     "shell.execute_reply.started": "2022-10-09T04:19:40.551289Z"
    }
   },
   "outputs": [],
   "source": [
    "# category hierarchy\n",
    "f = open(\"data/hierarchy.txt\", encoding = \"utf-8\")\n",
    "lines = f.readlines()"
   ]
  },
  {
   "cell_type": "code",
   "execution_count": null,
   "metadata": {
    "execution": {
     "iopub.execute_input": "2022-10-09T04:19:41.005776Z",
     "iopub.status.busy": "2022-10-09T04:19:41.005059Z",
     "iopub.status.idle": "2022-10-09T04:19:41.085312Z",
     "shell.execute_reply": "2022-10-09T04:19:41.084361Z",
     "shell.execute_reply.started": "2022-10-09T04:19:41.005717Z"
    }
   },
   "outputs": [],
   "source": [
    "# get co-occurrence matrices\n",
    "w12 = nd.zeros((c1, c2))\n",
    "w23 = nd.zeros((c2, c3))\n",
    "\n",
    "for line in tqdm(lines):\n",
    "    cats = line.split('\\n')[:-1][0].split('\\t')\n",
    "    if cats[0] in classes1:\n",
    "        index1 = classes1.index(cats[0])\n",
    "        if len(cats)>1:\n",
    "            if cats[1] in classes2:\n",
    "                index2 = classes2.index(cats[1])\n",
    "                w12[index1,index2] = 1\n",
    "    if cats[0] in classes2:\n",
    "        index2 = classes2.index(cats[0])\n",
    "        index3 = classes3.index(cats[1])\n",
    "        w23[index2,index3] = 1\n",
    "        \n",
    "w12 = w12.copyto(mx.gpu())\n",
    "w23 = w23.copyto(mx.gpu())"
   ]
  },
  {
   "cell_type": "code",
   "execution_count": null,
   "metadata": {
    "execution": {
     "iopub.execute_input": "2022-10-09T04:19:45.939768Z",
     "iopub.status.busy": "2022-10-09T04:19:45.939175Z",
     "iopub.status.idle": "2022-10-09T04:19:51.767946Z",
     "shell.execute_reply": "2022-10-09T04:19:51.766770Z",
     "shell.execute_reply.started": "2022-10-09T04:19:45.939724Z"
    }
   },
   "outputs": [],
   "source": [
    "# get frequency matrices\n",
    "fre32_init = nd.zeros((c3,c2))\n",
    "fre21_init = nd.zeros((c2,c1))\n",
    "\n",
    "for i in range(c1):\n",
    "    l = w12[i,:]\n",
    "    if l.sum()>0:\n",
    "        freq = labels_train[:,c1:(c1+c2)].sum(axis=0)*l.copyto(mx.cpu())\n",
    "        freq = freq/freq.sum()\n",
    "        fre21_init[:,i] = freq\n",
    "        \n",
    "for i in range(c2):\n",
    "    l = w23[i,:]\n",
    "    if l.sum()>0:\n",
    "        freq = labels_train[:,(c1+c2):].sum(axis=0)*l.copyto(mx.cpu())\n",
    "        freq = freq/freq.sum()\n",
    "        fre32_init[:,i] = freq\n",
    "        \n",
    "fre32_init = fre32_init.copyto(mx.gpu())\n",
    "fre21_init = fre21_init.copyto(mx.gpu())"
   ]
  },
  {
   "cell_type": "code",
   "execution_count": null,
   "metadata": {
    "execution": {
     "iopub.execute_input": "2022-10-09T04:21:22.542882Z",
     "iopub.status.busy": "2022-10-09T04:21:22.542539Z",
     "iopub.status.idle": "2022-10-09T04:21:22.549648Z",
     "shell.execute_reply": "2022-10-09T04:21:22.548552Z",
     "shell.execute_reply.started": "2022-10-09T04:21:22.542853Z"
    }
   },
   "outputs": [],
   "source": [
    "# network and training hyperparameters\n",
    "\n",
    "dv = 256 # dimension of original label embedding\n",
    "dh = 256 # dimension of hidden states in the structure encoder\n",
    "d1 = 5000 # dimension of the 1st layer in global classifier\n",
    "d2 = 2000 # dimension of the 2nd layer in global classifier\n",
    "d3 = 1000 # dim of the 3rd layer\n",
    "\n",
    "prob_thr = 0.5 # tagging threshold\n",
    "\n",
    "ctx = d2l.try_gpu() # training context\n",
    "embed_size = 300 # dimension of word embeddings\n",
    "num_hiddens = 256 # number of LSTM output units\n",
    "num_layers = 1 # number of LSTM hidden layers\n",
    "\n",
    "feature_dim = 512 # dimension of label-wise text features\n",
    "dropout_rate = 0.1 # dropout rate in BERT\n",
    "learning_rate = 0.00001 # learning rate\n",
    "decay_rate = 0.0000001 # tuning weight of weight decay"
   ]
  },
  {
   "cell_type": "code",
   "execution_count": null,
   "metadata": {
    "execution": {
     "iopub.execute_input": "2022-10-09T04:21:25.543935Z",
     "iopub.status.busy": "2022-10-09T04:21:25.543090Z",
     "iopub.status.idle": "2022-10-09T04:21:25.549629Z",
     "shell.execute_reply": "2022-10-09T04:21:25.548468Z",
     "shell.execute_reply.started": "2022-10-09T04:21:25.543896Z"
    }
   },
   "outputs": [],
   "source": [
    "loss1 = BCE # BCE loss function"
   ]
  },
  {
   "cell_type": "code",
   "execution_count": null,
   "metadata": {
    "execution": {
     "iopub.execute_input": "2022-10-09T04:21:39.179038Z",
     "iopub.status.busy": "2022-10-09T04:21:39.178142Z",
     "iopub.status.idle": "2022-10-09T04:21:39.199480Z",
     "shell.execute_reply": "2022-10-09T04:21:39.198485Z",
     "shell.execute_reply.started": "2022-10-09T04:21:39.178988Z"
    }
   },
   "outputs": [],
   "source": [
    "# keep validation results\n",
    "log = init_log()"
   ]
  },
  {
   "cell_type": "code",
   "execution_count": null,
   "metadata": {
    "execution": {
     "iopub.execute_input": "2022-10-09T04:22:19.664944Z",
     "iopub.status.busy": "2022-10-09T04:22:19.664578Z",
     "iopub.status.idle": "2022-10-09T04:22:19.677233Z",
     "shell.execute_reply": "2022-10-09T04:22:19.676321Z",
     "shell.execute_reply.started": "2022-10-09T04:22:19.664914Z"
    }
   },
   "outputs": [],
   "source": [
    "# load in your adjacent matrix\n",
    "## whole-hierarchy\n",
    "Ad = np.load('adjacent_matrix.npy')\n",
    "\n",
    "## levelwise\n",
    "#Ad1 = Ad[0:c1,0:c1]\n",
    "#Ad2 = Ad[c1:(c1+c2),c1:(c1+c2)]\n",
    "#Ad3 = Ad[(c1+c2):,(c1+c2):]"
   ]
  },
  {
   "cell_type": "code",
   "execution_count": null,
   "metadata": {},
   "outputs": [],
   "source": [
    "# load in your training weights\n",
    "weights = np.load('weights.npy')\n",
    "weights_1 = weights[:,0:c1]\n",
    "weights_2 = weights[:,c1:(c1+c2)]\n",
    "weights_3 = weights[:,(c1+c2):K]"
   ]
  },
  {
   "cell_type": "code",
   "execution_count": null,
   "metadata": {
    "execution": {
     "iopub.execute_input": "2022-10-09T04:22:39.688554Z",
     "iopub.status.busy": "2022-10-09T04:22:39.688077Z",
     "iopub.status.idle": "2022-10-09T04:22:55.691987Z",
     "shell.execute_reply": "2022-10-09T04:22:55.691006Z",
     "shell.execute_reply.started": "2022-10-09T04:22:39.688512Z"
    }
   },
   "outputs": [],
   "source": [
    "# network initialization\n",
    "net1 = PeerHTC(embed_size, num_hiddens, num_layers)\n",
    "mx.random.seed(817) # for replicability\n",
    "net1.initialize(init.Xavier(), ctx=ctx) # random initialization with Xavier\n",
    "\n",
    "# initialize the frequency matrices in structure encoder\n",
    "net1.fre32.set_data(fre32_init)\n",
    "net1.fre21.set_data(fre21_init)\n",
    "\n",
    "# initialize GCN\n",
    "## whole-hierarchy\n",
    "net1.Ad.set_data(nd.array(Ad))\n",
    "## levelwise\n",
    "#net1.Ad2.set_data(nd.array(Ad2))\n",
    "#net1.Ad3.set_data(nd.array(Ad3))\n",
    "\n",
    "# initialize the trainer\n",
    "trainer = gluon.Trainer(net1.collect_params(), 'adam', {'learning_rate': learning_rate, 'wd':decay_rate})"
   ]
  },
  {
   "cell_type": "code",
   "execution_count": null,
   "metadata": {
    "execution": {
     "iopub.execute_input": "2022-10-09T04:23:55.347450Z",
     "iopub.status.busy": "2022-10-09T04:23:55.347054Z"
    }
   },
   "outputs": [],
   "source": [
    "# network training and evaluation\n",
    "train(iter_train, iter_val, net1, trainer, ctx, 30) "
   ]
  },
  {
   "cell_type": "code",
   "execution_count": null,
   "metadata": {},
   "outputs": [],
   "source": []
  }
 ],
 "metadata": {
  "kernelspec": {
   "display_name": "Python 3",
   "language": "python",
   "name": "python3"
  },
  "language_info": {
   "codemirror_mode": {
    "name": "ipython",
    "version": 3
   },
   "file_extension": ".py",
   "mimetype": "text/x-python",
   "name": "python",
   "nbconvert_exporter": "python",
   "pygments_lexer": "ipython3",
   "version": "3.8.8"
  }
 },
 "nbformat": 4,
 "nbformat_minor": 4
}
